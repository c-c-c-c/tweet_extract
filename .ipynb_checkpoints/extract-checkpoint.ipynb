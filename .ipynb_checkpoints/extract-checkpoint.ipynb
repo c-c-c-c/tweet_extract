{
 "cells": [
  {
   "cell_type": "code",
   "execution_count": 6,
   "metadata": {},
   "outputs": [
    {
     "name": "stdout",
     "output_type": "stream",
     "text": [
      "err\n"
     ]
    },
    {
     "ename": "TypeError",
     "evalue": "'NoneType' object is not iterable",
     "output_type": "error",
     "traceback": [
      "\u001b[0;31m---------------------------------------------------------------------------\u001b[0m",
      "\u001b[0;31mTypeError\u001b[0m                                 Traceback (most recent call last)",
      "\u001b[0;32m<ipython-input-6-06b806e13bac>\u001b[0m in \u001b[0;36m<module>\u001b[0;34m\u001b[0m\n\u001b[1;32m     60\u001b[0m     \u001b[0mjson\u001b[0m\u001b[0;34m.\u001b[0m\u001b[0mdump\u001b[0m\u001b[0;34m(\u001b[0m\u001b[0malldata\u001b[0m\u001b[0;34m,\u001b[0m \u001b[0mopen\u001b[0m\u001b[0;34m(\u001b[0m\u001b[0;34m'twitterJSA_data.json'\u001b[0m\u001b[0;34m,\u001b[0m\u001b[0;34m'w'\u001b[0m\u001b[0;34m)\u001b[0m\u001b[0;34m)\u001b[0m\u001b[0;34m\u001b[0m\u001b[0;34m\u001b[0m\u001b[0m\n\u001b[1;32m     61\u001b[0m \u001b[0;34m\u001b[0m\u001b[0m\n\u001b[0;32m---> 62\u001b[0;31m \u001b[0mextruct\u001b[0m\u001b[0;34m(\u001b[0m\u001b[0;34m)\u001b[0m\u001b[0;34m\u001b[0m\u001b[0;34m\u001b[0m\u001b[0m\n\u001b[0m",
      "\u001b[0;32m<ipython-input-6-06b806e13bac>\u001b[0m in \u001b[0;36mextruct\u001b[0;34m()\u001b[0m\n\u001b[1;32m     40\u001b[0m     \u001b[0malldata\u001b[0m \u001b[0;34m=\u001b[0m \u001b[0;34m[\u001b[0m\u001b[0;34m]\u001b[0m\u001b[0;34m\u001b[0m\u001b[0;34m\u001b[0m\u001b[0m\n\u001b[1;32m     41\u001b[0m \u001b[0;34m\u001b[0m\u001b[0m\n\u001b[0;32m---> 42\u001b[0;31m     \u001b[0;32mfor\u001b[0m \u001b[0mi\u001b[0m\u001b[0;34m,\u001b[0m\u001b[0mbatch\u001b[0m \u001b[0;32min\u001b[0m \u001b[0menumerate\u001b[0m\u001b[0;34m(\u001b[0m\u001b[0mitertools\u001b[0m\u001b[0;34m.\u001b[0m\u001b[0mzip_longest\u001b[0m\u001b[0;34m(\u001b[0m\u001b[0;34m*\u001b[0m\u001b[0;34m[\u001b[0m\u001b[0miter\u001b[0m\u001b[0;34m(\u001b[0m\u001b[0manno\u001b[0m\u001b[0;34m)\u001b[0m\u001b[0;34m]\u001b[0m\u001b[0;34m*\u001b[0m\u001b[0;36m100\u001b[0m\u001b[0;34m)\u001b[0m\u001b[0;34m)\u001b[0m\u001b[0;34m:\u001b[0m\u001b[0;34m\u001b[0m\u001b[0;34m\u001b[0m\u001b[0m\n\u001b[0m\u001b[1;32m     43\u001b[0m         \u001b[0mprint\u001b[0m\u001b[0;34m(\u001b[0m\u001b[0;34m'%d/%d'\u001b[0m\u001b[0;34m%\u001b[0m\u001b[0;34m(\u001b[0m\u001b[0mi\u001b[0m\u001b[0;34m+\u001b[0m\u001b[0;36m1\u001b[0m\u001b[0;34m,\u001b[0m\u001b[0mlen\u001b[0m\u001b[0;34m(\u001b[0m\u001b[0manno\u001b[0m\u001b[0;34m)\u001b[0m\u001b[0;34m//\u001b[0m\u001b[0;36m100\u001b[0m\u001b[0;34m)\u001b[0m\u001b[0;34m)\u001b[0m\u001b[0;34m\u001b[0m\u001b[0;34m\u001b[0m\u001b[0m\n\u001b[1;32m     44\u001b[0m         \u001b[0mbatch\u001b[0m \u001b[0;34m=\u001b[0m \u001b[0;34m[\u001b[0m\u001b[0mb\u001b[0m \u001b[0;32mfor\u001b[0m \u001b[0mb\u001b[0m \u001b[0;32min\u001b[0m \u001b[0mbatch\u001b[0m \u001b[0;32mif\u001b[0m \u001b[0mb\u001b[0m \u001b[0;32mis\u001b[0m \u001b[0;32mnot\u001b[0m \u001b[0;32mNone\u001b[0m\u001b[0;34m]\u001b[0m\u001b[0;34m\u001b[0m\u001b[0;34m\u001b[0m\u001b[0m\n",
      "\u001b[0;31mTypeError\u001b[0m: 'NoneType' object is not iterable"
     ]
    }
   ],
   "source": [
    "from requests_oauthlib import OAuth1Session\n",
    "import json\n",
    "import itertools\n",
    "import pickle\n",
    "from time import sleep\n",
    "import setting\n",
    "\n",
    "# parser = argparse.ArgumentParser()\n",
    "# parser.add_argument('-cp','--csvPath',type=str,default='tweets_open.csv',\n",
    "#                     help='path to tweet_open.csv')\n",
    "\n",
    "CK = setting.CONSUMER_KEY\n",
    "CS = setting.CONSUMER_SECRET\n",
    "AT = setting.ACCESS_TOKEN\n",
    "AS = setting.ACCESS_SECRET\n",
    "\n",
    "session = OAuth1Session(CK, CS, AT, AS)\n",
    "\n",
    "url = 'https://api.twitter.com/1.1/statuses/lookup.json'\n",
    "\n",
    "def getTweets(tweetIds):\n",
    "    tweetIds = ','.join(list(map(str,tweetIds)))\n",
    "    res = session.get(url, params = {'id':tweetIds})\n",
    "\n",
    "    if res.status_code != 200:\n",
    "        print (\"Twitter API Error: %d\" % res.status_code)\n",
    "        sys.exit(1)\n",
    "\n",
    "    resText = json.loads(res.text)\n",
    "    data = {rt['id']:rt['text'] for rt in resText}\n",
    "    return data\n",
    "\n",
    "def extruct():\n",
    "    for line in open(\"./tweets_open.csv\"):\n",
    "        tmp_anno =[]\n",
    "        for val in line.strip().split(','):\n",
    "            try :\n",
    "                int(val)\n",
    "            except :\n",
    "                continue\n",
    "            \n",
    "            tmp_anno.append(int(val))\n",
    "        \n",
    "        anno.append(tmp_anno)\n",
    "    \n",
    "    alldata = []\n",
    "\n",
    "    for i,batch in enumerate(itertools.zip_longest(*[iter(anno)]*100)):\n",
    "        print('%d/%d'%(i+1,len(anno)//100))\n",
    "        batch = [b for b in batch if b is not None]\n",
    "        tweets = getTweets([line[2] for line in batch])\n",
    "\n",
    "        for line in batch:\n",
    "            data = {'id':line[0],\n",
    "                    'topic':line[1],\n",
    "                    'status':line[2],\n",
    "                    'label':line[3:],\n",
    "                    'label':line[3:],\n",
    "                    'text':tweets[line[2]] if line[2] in tweets else ''\n",
    "                   }\n",
    "            alldata.append(data)\n",
    "\n",
    "        # sleep\n",
    "        sleep(1)\n",
    "    pickle.dump(alldata, open('twitterJSA_data.pickle','wb'))\n",
    "    json.dump(alldata, open('twitterJSA_data.json','w'))\n",
    "\n",
    "extruct()"
   ]
  },
  {
   "cell_type": "code",
   "execution_count": null,
   "metadata": {
    "code_folding": []
   },
   "outputs": [],
   "source": [
    "for line in open(\"./tweets_open.csv\"):\n",
    "#     print (line)\n",
    "#     print(line.strip().split(',') )\n",
    "    for l in line.strip().split(',') :\n",
    "#         print(l)\n",
    "      try :\n",
    "            print(line.strip() )\n",
    "            print(line.strip().split(',') )\n",
    "#     break\n",
    "#             a = int(l)\n",
    "#         except:\n",
    "#             print(l)\n",
    "            \n",
    "    "
   ]
  },
  {
   "cell_type": "code",
   "execution_count": 2,
   "metadata": {},
   "outputs": [
    {
     "name": "stdout",
     "output_type": "stream",
     "text": [
      "2723945,10021,703556628990177280,0,0,0,1,\n",
      "['2723945', '10021', '703556628990177280', '0', '0', '0', '1', '']\n"
     ]
    }
   ],
   "source": [
    "for line in open(\"./tweets_open.csv\"):\n",
    "    try : \n",
    "#         line.strip().split(',') \n",
    "        [list(map(int, line.strip().split(','))) ]\n",
    "#         print(line.strip() )\n",
    "#         map(int, line.strip().split(','))\n",
    "    except:\n",
    "        print(line.strip() )\n",
    "        print(line.strip().split(',') )\n",
    "#     break\n",
    "#             a = int(l)\n",
    "#         except:\n",
    "#             print(l)\n",
    "            \n",
    "    "
   ]
  },
  {
   "cell_type": "code",
   "execution_count": null,
   "metadata": {},
   "outputs": [],
   "source": []
  }
 ],
 "metadata": {
  "kernelspec": {
   "display_name": "Python 3",
   "language": "python",
   "name": "python3"
  },
  "language_info": {
   "codemirror_mode": {
    "name": "ipython",
    "version": 3
   },
   "file_extension": ".py",
   "mimetype": "text/x-python",
   "name": "python",
   "nbconvert_exporter": "python",
   "pygments_lexer": "ipython3",
   "version": "3.7.6"
  }
 },
 "nbformat": 4,
 "nbformat_minor": 4
}
